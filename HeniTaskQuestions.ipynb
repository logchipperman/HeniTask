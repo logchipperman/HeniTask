{
 "cells": [
  {
   "cell_type": "code",
   "execution_count": 15,
   "metadata": {},
   "outputs": [],
   "source": [
    "#import modules\n",
    "from lxml import html\n",
    "import re\n",
    "import requests\n",
    "import pandas as pd\n",
    "from datetime import datetime"
   ]
  },
  {
   "cell_type": "markdown",
   "metadata": {},
   "source": [
    "<h2>Question 1<h2>"
   ]
  },
  {
   "cell_type": "code",
   "execution_count": 16,
   "metadata": {},
   "outputs": [
    {
     "data": {
      "text/html": [
       "<div>\n",
       "<style scoped>\n",
       "    .dataframe tbody tr th:only-of-type {\n",
       "        vertical-align: middle;\n",
       "    }\n",
       "\n",
       "    .dataframe tbody tr th {\n",
       "        vertical-align: top;\n",
       "    }\n",
       "\n",
       "    .dataframe thead th {\n",
       "        text-align: right;\n",
       "    }\n",
       "</style>\n",
       "<table border=\"1\" class=\"dataframe\">\n",
       "  <thead>\n",
       "    <tr style=\"text-align: right;\">\n",
       "      <th></th>\n",
       "      <th>Artist Name</th>\n",
       "      <th>Painting Name</th>\n",
       "      <th>Realised Price GBP</th>\n",
       "      <th>Realised Price USD</th>\n",
       "      <th>Estimated Price GBP</th>\n",
       "      <th>Estimated Price USD</th>\n",
       "      <th>Image Link</th>\n",
       "      <th>Sale Date</th>\n",
       "    </tr>\n",
       "  </thead>\n",
       "  <tbody>\n",
       "    <tr>\n",
       "      <th>1</th>\n",
       "      <td>Peter Doig</td>\n",
       "      <td>The Architect's Home in the Ravine</td>\n",
       "      <td>GBP 11,282,500</td>\n",
       "      <td>USD 16,370,908</td>\n",
       "      <td>GBP 10,000,000 - GBP 15,000,000</td>\n",
       "      <td>(USD 14,509,999 - USD 21,764,999)</td>\n",
       "      <td>http://www.christies.com/lotfinderimages/D5973...</td>\n",
       "      <td>11 February 2016,</td>\n",
       "    </tr>\n",
       "  </tbody>\n",
       "</table>\n",
       "</div>"
      ],
      "text/plain": [
       "   Artist Name                        Painting Name Realised Price GBP  \\\n",
       "1  Peter Doig   The Architect's Home in the Ravine      GBP 11,282,500   \n",
       "\n",
       "  Realised Price USD              Estimated Price GBP  \\\n",
       "1     USD 16,370,908  GBP 10,000,000 - GBP 15,000,000   \n",
       "\n",
       "                 Estimated Price USD  \\\n",
       "1  (USD 14,509,999 - USD 21,764,999)   \n",
       "\n",
       "                                          Image Link           Sale Date  \n",
       "1  http://www.christies.com/lotfinderimages/D5973...  11 February 2016,   "
      ]
     },
     "execution_count": 16,
     "metadata": {},
     "output_type": "execute_result"
    }
   ],
   "source": [
    "#get html and tree\n",
    "html_page_link = 'candidateEvalData/webpage.html'\n",
    "html_tree = html.parse(html_page_link)\n",
    "\n",
    "data = {}\n",
    "\n",
    "# parse artist name\n",
    "artistName = html_tree.xpath(\"//h1[@class='lotName']//text()\")[0]\n",
    "artistName = re.search(r\"[^b(]+\", artistName, ).group()\n",
    "data[\"Artist Name\"] = artistName\n",
    "\n",
    "#parse painting name\n",
    "paintingName = html_tree.xpath(\"//h2[@class='itemName']//text()\")[0]\n",
    "data[\"Painting Name\"] = paintingName\n",
    "\n",
    "#parse price GBP\n",
    "realisedPriceGBP = html_tree.xpath(\"//div[@class='price']//span[contains(@id,'PriceRealizedPrimary')]//text()\")[0]\n",
    "data[\"Realised Price GBP\"] =realisedPriceGBP\n",
    "\n",
    "#parse price US\n",
    "realisedPriceUSD = html_tree.xpath(\"//div[contains(@id,'PriceRealizedSecondary')]//text()\")[0]\n",
    "data[\"Realised Price USD\"] = realisedPriceUSD\n",
    "\n",
    "#parse price GBP est\n",
    "estimatePriceGBP = html_tree.xpath(\"//div[@class='price']//span[contains(@id,'PriceEstimatedPrimary')]//text()\")[0]\n",
    "data[\"Estimated Price GBP\"] = estimatePriceGBP\n",
    "\n",
    "#parse price US est\n",
    "estimatePriceUSD = html_tree.xpath(\"//span[contains(@id,'PriceEstimatedSecondary')]//text()\")[0]\n",
    "data[\"Estimated Price USD\"] = estimatePriceUSD\n",
    "\n",
    "#image link\n",
    "imageLink = html_tree.xpath(\"//div[@id='MainContentImage']//img[@id='imgLotImage']//@src\")[0]\n",
    "data[\"Image Link\"] = imageLink\n",
    "\n",
    "# sale date\n",
    "# Could convert to a date time.\n",
    "saleDate = html_tree.xpath(\"//span[contains(@id,'SaleDate')]//text()\")[0]\n",
    "data[\"Sale Date\"] = saleDate\n",
    "\n",
    "df = pd.DataFrame(data, index=['1'])\n",
    "df.head()"
   ]
  },
  {
   "cell_type": "markdown",
   "metadata": {},
   "source": [
    "<h2>Question 2<h2>"
   ]
  },
  {
   "cell_type": "code",
   "execution_count": 17,
   "metadata": {},
   "outputs": [
    {
     "data": {
      "text/html": [
       "<div>\n",
       "<style scoped>\n",
       "    .dataframe tbody tr th:only-of-type {\n",
       "        vertical-align: middle;\n",
       "    }\n",
       "\n",
       "    .dataframe tbody tr th {\n",
       "        vertical-align: top;\n",
       "    }\n",
       "\n",
       "    .dataframe thead th {\n",
       "        text-align: right;\n",
       "    }\n",
       "</style>\n",
       "<table border=\"1\" class=\"dataframe\">\n",
       "  <thead>\n",
       "    <tr style=\"text-align: right;\">\n",
       "      <th></th>\n",
       "      <th>rawDim</th>\n",
       "      <th>height</th>\n",
       "      <th>width</th>\n",
       "      <th>depth</th>\n",
       "    </tr>\n",
       "  </thead>\n",
       "  <tbody>\n",
       "    <tr>\n",
       "      <th>0</th>\n",
       "      <td>19×52cm</td>\n",
       "      <td>19.0</td>\n",
       "      <td>52.0</td>\n",
       "      <td>NaN</td>\n",
       "    </tr>\n",
       "    <tr>\n",
       "      <th>1</th>\n",
       "      <td>50 x 66,4 cm</td>\n",
       "      <td>50.0</td>\n",
       "      <td>66.4</td>\n",
       "      <td>NaN</td>\n",
       "    </tr>\n",
       "    <tr>\n",
       "      <th>2</th>\n",
       "      <td>168.9 x 274.3 x 3.8 cm (66 1/2 x 108 x 1 1/2 in.)</td>\n",
       "      <td>168.9</td>\n",
       "      <td>274.3</td>\n",
       "      <td>3.8</td>\n",
       "    </tr>\n",
       "    <tr>\n",
       "      <th>3</th>\n",
       "      <td>Sheet: 16 1/4 × 12 1/4 in. (41.3 × 31.1 cm) Im...</td>\n",
       "      <td>35.6</td>\n",
       "      <td>25.1</td>\n",
       "      <td>NaN</td>\n",
       "    </tr>\n",
       "    <tr>\n",
       "      <th>4</th>\n",
       "      <td>5 by 5in</td>\n",
       "      <td>12.7</td>\n",
       "      <td>12.7</td>\n",
       "      <td>NaN</td>\n",
       "    </tr>\n",
       "  </tbody>\n",
       "</table>\n",
       "</div>"
      ],
      "text/plain": [
       "                                              rawDim  height  width  depth\n",
       "0                                            19×52cm    19.0   52.0    NaN\n",
       "1                                       50 x 66,4 cm    50.0   66.4    NaN\n",
       "2  168.9 x 274.3 x 3.8 cm (66 1/2 x 108 x 1 1/2 in.)   168.9  274.3    3.8\n",
       "3  Sheet: 16 1/4 × 12 1/4 in. (41.3 × 31.1 cm) Im...    35.6   25.1    NaN\n",
       "4                                           5 by 5in    12.7   12.7    NaN"
      ]
     },
     "execution_count": 17,
     "metadata": {},
     "output_type": "execute_result"
    }
   ],
   "source": [
    "dim_df = pd.read_csv(\"candidateEvalData/dim_df_correct.csv\")\n",
    "dim_df"
   ]
  },
  {
   "cell_type": "code",
   "execution_count": 23,
   "metadata": {},
   "outputs": [
    {
     "name": "stdout",
     "output_type": "stream",
     "text": [
      "19.0 52.0 cm\n",
      "50.0 66.4 cm\n",
      "168.9 274.3 3.8 cm\n",
      "35.6 25.1 cm\n",
      "12.7 12.7\n"
     ]
    }
   ],
   "source": [
    "\n",
    "\n",
    "# 19 x 52cm\n",
    "reg1 = r\"(?P<height>\\d+)×(?P<width>\\d+)(?P<unit>cm)\"\n",
    "re_search1 = re.search(reg1, dim_df[\"rawDim\"][0])\n",
    "print(float(re_search1.group(\"height\")), float(re_search1.group(\"width\")), re_search1.group(\"unit\"))\n",
    "\n",
    "# 50 x 66,4 cm\n",
    "reg2 = r\"(?P<height>\\d+\\,?\\d+)\\s?x\\s?(?P<width>\\d+\\,\\d+)\\s?(?P<unit>cm)\"\n",
    "re_search2 = re.search(reg2, dim_df[\"rawDim\"][1])\n",
    "width = re_search2.group(\"width\").replace(\",\",\".\")\n",
    "print(float(re_search2.group(\"height\")), float(width), re_search2.group(\"unit\"))\n",
    "\n",
    "# 168.9 x 274.3 x 3.8 cm (66 1/2 x 108 x 1 1/2 in.)\n",
    "reg3 = r\"(?P<height>\\d+\\.?\\d+)?(\\s?x\\s?)(?P<width>\\d+\\.?\\d+)?(\\s?x\\s?)?(?P<depth>\\d+\\.?\\d+)?\\s?(?P<unit>cm)\"\n",
    "re_search3 = re.search(reg3, dim_df[\"rawDim\"][2])\n",
    "print(float(re_search3.group(\"height\")), float(re_search3.group(\"width\")), float(re_search3.group(\"depth\")), re_search3.group(\"unit\"))\n",
    "\n",
    "# Sheet: 16 1/4 × 12 1/4 in. (41.3 × 31.1 cm) Image: 14 × 9 7/8 in. (35.6 × 25.1 cm)\n",
    "reg4 = r\"Image.*\\((?P<height>\\d+\\.?\\d+)?(\\s?×\\s?)(?P<width>\\d+\\.?\\d+)?(\\s?×\\s?)?(?P<depth>\\d+\\.?\\d+)?\\s?(?P<unit>cm)\"\n",
    "re_search4 = re.search(reg4, dim_df[\"rawDim\"][3])\n",
    "print(float(re_search4.group(\"height\")), float(re_search4.group(\"width\")), re_search4.group(\"unit\"))\n",
    "\n",
    "# 5 by 5in\n",
    "inch_to_cm = 2.54\n",
    "reg5 = r\"(?P<height>\\d+)\\s?by\\s?(?P<width>\\d+)\\s?(?P<unit>in)\"\n",
    "re_search5 = re.search(reg5, dim_df[\"rawDim\"][4])\n",
    "print(float(re_search5.group(\"height\")) * inch_to_cm, float(re_search5.group(\"width\")) * inch_to_cm)"
   ]
  },
  {
   "attachments": {},
   "cell_type": "markdown",
   "metadata": {},
   "source": [
    "<h2>Now combining the regex into one function<h2>"
   ]
  },
  {
   "cell_type": "code",
   "execution_count": 19,
   "metadata": {},
   "outputs": [
    {
     "data": {
      "text/html": [
       "<div>\n",
       "<style scoped>\n",
       "    .dataframe tbody tr th:only-of-type {\n",
       "        vertical-align: middle;\n",
       "    }\n",
       "\n",
       "    .dataframe tbody tr th {\n",
       "        vertical-align: top;\n",
       "    }\n",
       "\n",
       "    .dataframe thead th {\n",
       "        text-align: right;\n",
       "    }\n",
       "</style>\n",
       "<table border=\"1\" class=\"dataframe\">\n",
       "  <thead>\n",
       "    <tr style=\"text-align: right;\">\n",
       "      <th></th>\n",
       "      <th>rawDim</th>\n",
       "      <th>height</th>\n",
       "      <th>width</th>\n",
       "      <th>depth</th>\n",
       "    </tr>\n",
       "  </thead>\n",
       "  <tbody>\n",
       "    <tr>\n",
       "      <th>0</th>\n",
       "      <td>19×52cm</td>\n",
       "      <td>19.0</td>\n",
       "      <td>52.0</td>\n",
       "      <td>NaN</td>\n",
       "    </tr>\n",
       "    <tr>\n",
       "      <th>1</th>\n",
       "      <td>50 x 66,4 cm</td>\n",
       "      <td>50.0</td>\n",
       "      <td>66.4</td>\n",
       "      <td>NaN</td>\n",
       "    </tr>\n",
       "    <tr>\n",
       "      <th>2</th>\n",
       "      <td>168.9 x 274.3 x 3.8 cm (66 1/2 x 108 x 1 1/2 in.)</td>\n",
       "      <td>168.9</td>\n",
       "      <td>274.3</td>\n",
       "      <td>3.8</td>\n",
       "    </tr>\n",
       "    <tr>\n",
       "      <th>3</th>\n",
       "      <td>Sheet: 16 1/4 × 12 1/4 in. (41.3 × 31.1 cm) Im...</td>\n",
       "      <td>35.6</td>\n",
       "      <td>25.1</td>\n",
       "      <td>NaN</td>\n",
       "    </tr>\n",
       "    <tr>\n",
       "      <th>4</th>\n",
       "      <td>5 by 5in</td>\n",
       "      <td>12.7</td>\n",
       "      <td>12.7</td>\n",
       "      <td>NaN</td>\n",
       "    </tr>\n",
       "  </tbody>\n",
       "</table>\n",
       "</div>"
      ],
      "text/plain": [
       "                                              rawDim  height  width  depth\n",
       "0                                            19×52cm    19.0   52.0    NaN\n",
       "1                                       50 x 66,4 cm    50.0   66.4    NaN\n",
       "2  168.9 x 274.3 x 3.8 cm (66 1/2 x 108 x 1 1/2 in.)   168.9  274.3    3.8\n",
       "3  Sheet: 16 1/4 × 12 1/4 in. (41.3 × 31.1 cm) Im...    35.6   25.1    NaN\n",
       "4                                           5 by 5in    12.7   12.7    NaN"
      ]
     },
     "execution_count": 19,
     "metadata": {},
     "output_type": "execute_result"
    }
   ],
   "source": [
    "inch_to_cm = 2.54\n",
    "\n",
    "# All of these variables could be expanded e.g. more synonyms such as inches\n",
    "units = r\"cm|in\" \n",
    "\n",
    "by_seperators = r\"by|x|×\"\n",
    "\n",
    "unit_seperators = r\"[,\\.]\"\n",
    "\n",
    "# At the moment only gets decimal numbers not fractions e.g. won't match 16 1/4 x 12 1/4 inch\n",
    "decimal_number = fr\"\\d+{unit_seperators}?\\d*\"\n",
    "\n",
    "dimensions_regex = (fr\"(?P<height>{decimal_number})\\s{{0,4}}(?:{by_seperators})?\\s{{0,4}}\"\n",
    "                    fr\"(?P<width>{decimal_number})\\s{{0,4}}(?:{by_seperators})?\\s{{0,4}}\"\n",
    "                    fr\"(?P<depth>{decimal_number})?\\s{{0,4}}(?P<unit>{units})\")\n",
    "\n",
    "# If this word appears after a dimension then discard it.\n",
    "negative_lookahead = \"image\"\n",
    "\n",
    "def formatInput(value, unit):\n",
    "    # Remove \",\" from string\n",
    "    # Convert from cm to inches\n",
    "    value = float(value.replace(\",\",\".\"))\n",
    "    if unit == \"in\":\n",
    "        value *= inch_to_cm\n",
    "    return value\n",
    "\n",
    "\n",
    "data = []\n",
    "for dim in dim_df[\"rawDim\"]:\n",
    "    data_sub_row = []\n",
    "    data_sub_row.append(dim)\n",
    "    re_searchs = re.finditer(dimensions_regex, dim, re.IGNORECASE)\n",
    "    for re_search in re_searchs:\n",
    "        if re.search(negative_lookahead, dim[re_search.end():], re.IGNORECASE):\n",
    "            continue\n",
    "        for key in (\"height\", \"width\", \"depth\"):\n",
    "            if not re_search.group(key):\n",
    "                continue\n",
    "            unit = re_search.group(\"unit\")\n",
    "            dimension_value = formatInput(re_search.group(key), unit)\n",
    "            data_sub_row.append(dimension_value)\n",
    "        break\n",
    "    data.append(data_sub_row)\n",
    "\n",
    "df = pd.DataFrame(data, columns=[\"rawDim\", \"height\", \"width\", \"depth\"])\n",
    "df"
   ]
  },
  {
   "attachments": {},
   "cell_type": "markdown",
   "metadata": {},
   "source": [
    "<h2>Question3<h3>\n",
    "<h3>Please `scrapy crawl bearspace -O BearSpacePaintings.csv` from inside of the HeniWebCrawler directory before running this next cell<h1>"
   ]
  },
  {
   "cell_type": "code",
   "execution_count": 20,
   "metadata": {},
   "outputs": [
    {
     "data": {
      "text/html": [
       "<div>\n",
       "<style scoped>\n",
       "    .dataframe tbody tr th:only-of-type {\n",
       "        vertical-align: middle;\n",
       "    }\n",
       "\n",
       "    .dataframe tbody tr th {\n",
       "        vertical-align: top;\n",
       "    }\n",
       "\n",
       "    .dataframe thead th {\n",
       "        text-align: right;\n",
       "    }\n",
       "</style>\n",
       "<table border=\"1\" class=\"dataframe\">\n",
       "  <thead>\n",
       "    <tr style=\"text-align: right;\">\n",
       "      <th></th>\n",
       "      <th>url</th>\n",
       "      <th>title</th>\n",
       "      <th>media</th>\n",
       "      <th>height_cm</th>\n",
       "      <th>width_cm</th>\n",
       "      <th>price_gbp</th>\n",
       "    </tr>\n",
       "  </thead>\n",
       "  <tbody>\n",
       "    <tr>\n",
       "      <th>0</th>\n",
       "      <td>https://www.bearspace.co.uk/product-page/el-do...</td>\n",
       "      <td>El Dorado by John Greenwood</td>\n",
       "      <td>Oil on Gessoed canvas on Board</td>\n",
       "      <td>45.0</td>\n",
       "      <td>38.0</td>\n",
       "      <td>3,800.00</td>\n",
       "    </tr>\n",
       "    <tr>\n",
       "      <th>1</th>\n",
       "      <td>https://www.bearspace.co.uk/product-page/conve...</td>\n",
       "      <td>Conversation 2 by Vic Wright</td>\n",
       "      <td>Black and white casting cement with 24k gold leaf</td>\n",
       "      <td>12.0</td>\n",
       "      <td>8.0</td>\n",
       "      <td>320.00</td>\n",
       "    </tr>\n",
       "    <tr>\n",
       "      <th>2</th>\n",
       "      <td>https://www.bearspace.co.uk/product-page/const...</td>\n",
       "      <td>Constructed Veneer VII by Olly Fathers</td>\n",
       "      <td>Various wood veneers, various woods, board</td>\n",
       "      <td>34.0</td>\n",
       "      <td>25.0</td>\n",
       "      <td>940.00</td>\n",
       "    </tr>\n",
       "    <tr>\n",
       "      <th>3</th>\n",
       "      <td>https://www.bearspace.co.uk/product-page/dispe...</td>\n",
       "      <td>Disperse by Dionne Cole</td>\n",
       "      <td>76 x 101.6 cm</td>\n",
       "      <td>76.0</td>\n",
       "      <td>101.6</td>\n",
       "      <td>1,400.00</td>\n",
       "    </tr>\n",
       "    <tr>\n",
       "      <th>4</th>\n",
       "      <td>https://www.bearspace.co.uk/product-page/conve...</td>\n",
       "      <td>Conversation by Vic Wright</td>\n",
       "      <td>18K gold leaf and white casting cement</td>\n",
       "      <td>16.5</td>\n",
       "      <td>13.0</td>\n",
       "      <td>440.00</td>\n",
       "    </tr>\n",
       "  </tbody>\n",
       "</table>\n",
       "</div>"
      ],
      "text/plain": [
       "                                                 url  \\\n",
       "0  https://www.bearspace.co.uk/product-page/el-do...   \n",
       "1  https://www.bearspace.co.uk/product-page/conve...   \n",
       "2  https://www.bearspace.co.uk/product-page/const...   \n",
       "3  https://www.bearspace.co.uk/product-page/dispe...   \n",
       "4  https://www.bearspace.co.uk/product-page/conve...   \n",
       "\n",
       "                                    title  \\\n",
       "0             El Dorado by John Greenwood   \n",
       "1            Conversation 2 by Vic Wright   \n",
       "2  Constructed Veneer VII by Olly Fathers   \n",
       "3                 Disperse by Dionne Cole   \n",
       "4              Conversation by Vic Wright   \n",
       "\n",
       "                                               media  height_cm  width_cm  \\\n",
       "0                     Oil on Gessoed canvas on Board       45.0      38.0   \n",
       "1  Black and white casting cement with 24k gold leaf       12.0       8.0   \n",
       "2         Various wood veneers, various woods, board       34.0      25.0   \n",
       "3                                      76 x 101.6 cm       76.0     101.6   \n",
       "4             18K gold leaf and white casting cement       16.5      13.0   \n",
       "\n",
       "  price_gbp  \n",
       "0  3,800.00  \n",
       "1    320.00  \n",
       "2    940.00  \n",
       "3  1,400.00  \n",
       "4    440.00  "
      ]
     },
     "execution_count": 20,
     "metadata": {},
     "output_type": "execute_result"
    }
   ],
   "source": [
    "bear_space_paintings_df = pd.read_csv(\"HeniWebCrawler/BearSpacePaintings.csv\")\n",
    "bear_space_paintings_df.head()"
   ]
  },
  {
   "attachments": {},
   "cell_type": "markdown",
   "metadata": {},
   "source": [
    "<h2>Question 4<h3>"
   ]
  },
  {
   "attachments": {},
   "cell_type": "markdown",
   "metadata": {},
   "source": [
    "<h3>Task 1 : Describe inner join, left join, right join, full join.<h3>"
   ]
  },
  {
   "attachments": {},
   "cell_type": "markdown",
   "metadata": {},
   "source": [
    "Inner Join = Selects all the rows from the left and right table where there is a matching value in the field you are joining on"
   ]
  },
  {
   "attachments": {},
   "cell_type": "markdown",
   "metadata": {},
   "source": [
    "Left Join = Selects all of the rows from the left table and only the rows that match the join condition from the right table. If a row in the left table doesn't match the join condition then a NULL value will be inserted into each column from the right table."
   ]
  },
  {
   "attachments": {},
   "cell_type": "markdown",
   "metadata": {},
   "source": [
    "Right Join = Selects all of the rows from the right table and only the rows that match the join condition from the left table. If a row in the right table doesn't match the join condition then a NULL value will be inserted into each column from the left table."
   ]
  },
  {
   "attachments": {},
   "cell_type": "markdown",
   "metadata": {},
   "source": [
    "Full Join = Selects all of the rows from the left table and all of the rows from the right table. The missing values, on either side, will be filled in with NULL values."
   ]
  },
  {
   "cell_type": "code",
   "execution_count": 21,
   "metadata": {},
   "outputs": [],
   "source": [
    "flights = pd.read_csv(\"candidateEvalData/flights.csv\")\n",
    "airports = pd.read_csv(\"candidateEvalData/airports.csv\")\n",
    "weather = pd.read_csv(\"candidateEvalData/weather.csv\")\n",
    "airlines = pd.read_csv(\"candidateEvalData/airlines.csv\")"
   ]
  },
  {
   "attachments": {},
   "cell_type": "markdown",
   "metadata": {},
   "source": [
    "<h4>Task 2.1<h4>\n",
    "\n",
    "```\n",
    "SELECT\n",
    "  f.arr_time,\n",
    "  f.origin,\n",
    "  f.dest,\n",
    "  a.name\n",
    "FROM\n",
    "  flights as f\n",
    "  INNER JOIN airlines as a ON f.carrier = a.carrier;\n",
    "```"
   ]
  },
  {
   "attachments": {},
   "cell_type": "markdown",
   "metadata": {},
   "source": [
    "<h4>Task 2.2<h4>\n",
    "\n",
    "```\n",
    "SELECT\n",
    "  f.arr_time,\n",
    "  f.origin,\n",
    "  f.dest,\n",
    "  a.name\n",
    "FROM\n",
    "  flights as f\n",
    "  INNER JOIN airlines as a ON f.carrier = a.carrier\n",
    "WHERE\n",
    "  a.name LIKE \"%JetBlue%\";\n",
    "```"
   ]
  },
  {
   "attachments": {},
   "cell_type": "markdown",
   "metadata": {},
   "source": [
    "<h4>Task 2.3<h4>\n",
    "\n",
    "```\n",
    "SELECT\n",
    "  f.origin,\n",
    "  count(*)\n",
    "FROM\n",
    "  flights as f\n",
    "  INNER JOIN airlines as a ON f.carrier = a.carrier\n",
    "WHERE\n",
    "  a.name LIKE \"%JetBlue%\"\n",
    "GROUP BY\n",
    "  f.origin\n",
    "ORDER BY\n",
    "  count(*) asc;\n",
    "```"
   ]
  },
  {
   "attachments": {},
   "cell_type": "markdown",
   "metadata": {},
   "source": [
    "<h4>Task 2.4<h4>\n",
    "\n",
    "```\n",
    "SELECT\n",
    "  f.origin,\n",
    "  count(*)\n",
    "FROM\n",
    "  flights as f\n",
    "  INNER JOIN airlines as a ON f.carrier = a.carrier\n",
    "WHERE\n",
    "  a.name LIKE \"%JetBlue%\"\n",
    "GROUP BY\n",
    "  f.origin\n",
    "HAVING\n",
    "  count(*) > 100\n",
    "ORDER BY\n",
    "  count(*) asc;\n",
    "```"
   ]
  },
  {
   "attachments": {},
   "cell_type": "markdown",
   "metadata": {},
   "source": [
    "<h2>What could have been better if I had more time<h3>"
   ]
  },
  {
   "attachments": {},
   "cell_type": "markdown",
   "metadata": {},
   "source": [
    "1) Improve the regex to extract more dimensions information\n",
    "\n",
    "There are some paintings that have been scraped that are missing height and width information even though it's on the page. For example this listing, my spider doesn't extract the height and width but it could do if the dimensions regex was improved. In this case it'd need to handle the W and H characthers in the dimenions.\n",
    "e.g. https://www.bearspace.co.uk/product-page/shades-of-coral-ii-by-dionne-cole\t\n",
    "\n",
    "2) Use item loaders for the scrapy spider.\n",
    "\n",
    "At the moment the data is being inputted into a dictionary, but a better way would be to use scrapy itemloaders since you have the option to define the set fields that you want to scrape and also you can add input processors. For example you could strip the text inputs to remove any trailing white spaces and perform any other string cleaning that is needed. \n",
    "\n",
    "3) Use a linter\n",
    "\n",
    "At the moment there is no linter being used for this project, it'd be good to add a sytnax checker and a code formatter so that all the code is formatted the same and follows a particular guidline. "
   ]
  }
 ],
 "metadata": {
  "kernelspec": {
   "display_name": "Python 3",
   "language": "python",
   "name": "python3"
  },
  "language_info": {
   "codemirror_mode": {
    "name": "ipython",
    "version": 3
   },
   "file_extension": ".py",
   "mimetype": "text/x-python",
   "name": "python",
   "nbconvert_exporter": "python",
   "pygments_lexer": "ipython3",
   "version": "3.11.1"
  },
  "orig_nbformat": 4,
  "vscode": {
   "interpreter": {
    "hash": "c4fabb858eb339df3e80d843564560dd4068180a1c7ffca6c1ad55a920b88b5c"
   }
  }
 },
 "nbformat": 4,
 "nbformat_minor": 2
}
